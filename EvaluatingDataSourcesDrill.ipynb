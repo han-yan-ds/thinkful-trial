{
 "cells": [
  {
   "cell_type": "markdown",
   "metadata": {},
   "source": [
    "1) Data Source: Amsterdam availability data scraped from AirBnB on December 24th. Question: What are the popular neighborhoods in Amsterdam?\n",
    "\n",
    "Adjust analysis:  Amsterdam availability data scraped from more days in the year (and not just holidays and event days), to expand scope beyond tourism days such as December 24th.\n",
    "\n",
    "ALSO, scrap from more than AirBnB, because AirBnB data is mostly for travelers, and the question implies popular neighborhoods for LOCALS.\n",
    "\n",
    "Reframe question:  What are popular tourist-staying neighborhoods in Amsterdam on December 24th?"
   ]
  },
  {
   "cell_type": "markdown",
   "metadata": {},
   "source": [
    "2) Data Source: Mental health services use on September 12, 2001 in San Francisco, CA and New York City, NY. Question: How do patterns of mental health service use vary between cities?\n",
    "        \n",
    "Adjust analysis:  Change dates (beyond the day after Sept 11 which is likely a big outlier) and add more cities to include small/medium sized cities.\n",
    "\n",
    "Reframe question:  How do patterns of mental health service usage after the Sept 11 attacks vary between 1) the city affected, and 2) across the country?"
   ]
  },
  {
   "cell_type": "markdown",
   "metadata": {},
   "source": [
    "3) Data Source: Armenian Pub Survey. Question: What are the most common reasons Armenians visit local pubs?\n",
    "\n",
    "Adjust analysis:  There might be huge selection bias here, notable with a disproportionately large set of the data being Students Not Working (70%).  We need to reevaluate the method that this survey was given out, which may cause this selection bias.\n",
    "\n",
    "Reframe question:  What's the main reason that visitors to (<website that linked to this survey?>) goes to Armenian pubs?"
   ]
  },
  {
   "cell_type": "code",
   "execution_count": null,
   "metadata": {},
   "outputs": [],
   "source": []
  }
 ],
 "metadata": {
  "kernelspec": {
   "display_name": "Python 3",
   "language": "python",
   "name": "python3"
  },
  "language_info": {
   "codemirror_mode": {
    "name": "ipython",
    "version": 3
   },
   "file_extension": ".py",
   "mimetype": "text/x-python",
   "name": "python",
   "nbconvert_exporter": "python",
   "pygments_lexer": "ipython3",
   "version": "3.6.7"
  }
 },
 "nbformat": 4,
 "nbformat_minor": 2
}
